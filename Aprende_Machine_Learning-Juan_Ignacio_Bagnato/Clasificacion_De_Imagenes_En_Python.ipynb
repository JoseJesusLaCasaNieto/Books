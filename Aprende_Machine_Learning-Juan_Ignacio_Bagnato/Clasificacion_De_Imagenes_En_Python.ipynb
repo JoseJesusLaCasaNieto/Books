{
 "cells": [
  {
   "cell_type": "markdown",
   "metadata": {},
   "source": [
    "# Clasificación de Imágenes en Python"
   ]
  },
  {
   "cell_type": "markdown",
   "metadata": {},
   "source": [
    "## 1. Importar librerías"
   ]
  },
  {
   "cell_type": "code",
   "execution_count": 6,
   "metadata": {},
   "outputs": [],
   "source": [
    "import numpy as np\n",
    "import os\n",
    "import re\n",
    "import matplotlib.pyplot as plt\n",
    "from sklearn.model_selection import train_test_split\n",
    "from sklearn.metrics import classification_report\n",
    "import keras\n",
    "from keras.utils import to_categorical\n",
    "from keras.models import Sequential, Model\n",
    "from keras.layers import Input, Dense, Dropout, Flatten, Conv2D, MaxPooling2D, BatchNormalization, LeakyReLU"
   ]
  },
  {
   "cell_type": "markdown",
   "metadata": {},
   "source": [
    "## 2. Cargar las imágenes"
   ]
  },
  {
   "cell_type": "code",
   "execution_count": 8,
   "metadata": {},
   "outputs": [
    {
     "name": "stdout",
     "output_type": "stream",
     "text": [
      "Leyendo imágenes de c:\\Mis Proyectos\\Git\\Books\\Aprende_Machine_Learning-Juan_Ignacio_Bagnato\\..\\..\\sportimages\\\n",
      "c:\\Mis Proyectos\\Git\\Books\\Aprende_Machine_Learning-Juan_Ignacio_Bagnato\\..\\..\\sportimages\\americano 1\n",
      "c:\\Mis Proyectos\\Git\\Books\\Aprende_Machine_Learning-Juan_Ignacio_Bagnato\\..\\..\\sportimages\\basket 9348\n",
      "c:\\Mis Proyectos\\Git\\Books\\Aprende_Machine_Learning-Juan_Ignacio_Bagnato\\..\\..\\sportimages\\beisball 8823\n",
      "c:\\Mis Proyectos\\Git\\Books\\Aprende_Machine_Learning-Juan_Ignacio_Bagnato\\..\\..\\sportimages\\boxeo 7752\n",
      "c:\\Mis Proyectos\\Git\\Books\\Aprende_Machine_Learning-Juan_Ignacio_Bagnato\\..\\..\\sportimages\\ciclismo 7125\n",
      "c:\\Mis Proyectos\\Git\\Books\\Aprende_Machine_Learning-Juan_Ignacio_Bagnato\\..\\..\\sportimages\\f1 7533\n",
      "c:\\Mis Proyectos\\Git\\Books\\Aprende_Machine_Learning-Juan_Ignacio_Bagnato\\..\\..\\sportimages\\futbol 5053\n",
      "c:\\Mis Proyectos\\Git\\Books\\Aprende_Machine_Learning-Juan_Ignacio_Bagnato\\..\\..\\sportimages\\golf 7617\n",
      "c:\\Mis Proyectos\\Git\\Books\\Aprende_Machine_Learning-Juan_Ignacio_Bagnato\\..\\..\\sportimages\\natacion 9768\n",
      "c:\\Mis Proyectos\\Git\\Books\\Aprende_Machine_Learning-Juan_Ignacio_Bagnato\\..\\..\\sportimages\\tenis 5172\n",
      "Directorios leídos: 10\n",
      "Imágenes en cada directorio: [9349, 8823, 7752, 7125, 7533, 5053, 7617, 9768, 5172, 8936]\n",
      "Suma total de imágenes en subdirectorios: 77128\n"
     ]
    }
   ],
   "source": [
    "dirname = os.path.join(os.getcwd(), '..', '..', 'sportimages')\n",
    "imgpath = dirname + os.sep\n",
    "\n",
    "images = []\n",
    "directories = []\n",
    "dircount = []\n",
    "prevRoot = ''\n",
    "cant = 0\n",
    "\n",
    "print(\"Leyendo imágenes de\", imgpath)\n",
    "\n",
    "for root, dirnames, filenames in os.walk(imgpath):\n",
    "    for filename in filenames:\n",
    "        if re.search(\"\\.(jpg|jpeg|png|bmp|tiff)$\", filename):\n",
    "            cant += 1\n",
    "            filepath = os.path.join(root, filename)\n",
    "            image = plt.imread(filepath)\n",
    "            images.append(image)\n",
    "            b = \"Leyendo...\" + str(cant)\n",
    "            print(b, end=\"\\r\")\n",
    "            if prevRoot != root:\n",
    "                print(root, cant)\n",
    "                prevRoot = root\n",
    "                directories.append(root)\n",
    "                dircount.append(cant)\n",
    "                cant = 0\n",
    "dircount.append(cant)\n",
    "\n",
    "dircount = dircount[1:]\n",
    "dircount[0] = dircount[0] + 1\n",
    "print(\"Directorios leídos:\", len(directories))\n",
    "print(\"Imágenes en cada directorio:\", dircount)\n",
    "print(\"Suma total de imágenes en subdirectorios:\", sum(dircount))"
   ]
  },
  {
   "cell_type": "code",
   "execution_count": null,
   "metadata": {},
   "outputs": [],
   "source": []
  }
 ],
 "metadata": {
  "kernelspec": {
   "display_name": "PySpace310",
   "language": "python",
   "name": "python3"
  },
  "language_info": {
   "codemirror_mode": {
    "name": "ipython",
    "version": 3
   },
   "file_extension": ".py",
   "mimetype": "text/x-python",
   "name": "python",
   "nbconvert_exporter": "python",
   "pygments_lexer": "ipython3",
   "version": "3.10.14"
  }
 },
 "nbformat": 4,
 "nbformat_minor": 2
}
