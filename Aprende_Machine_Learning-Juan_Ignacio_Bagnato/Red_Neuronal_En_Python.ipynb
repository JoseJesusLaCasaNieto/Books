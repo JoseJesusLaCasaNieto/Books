{
 "cells": [
  {
   "cell_type": "markdown",
   "metadata": {},
   "source": [
    "# Crear una Red Neuronal en Python desde cero"
   ]
  },
  {
   "cell_type": "markdown",
   "metadata": {},
   "source": [
    "## 1. El código de la Red Neuronal"
   ]
  },
  {
   "cell_type": "code",
   "execution_count": 1,
   "metadata": {},
   "outputs": [],
   "source": [
    "import numpy as np\n",
    "\n",
    "def sigmoid(x):\n",
    "    return 1.0/(1.0+np.exp(-x))\n",
    "\n",
    "def sigmoid_derivada(x):\n",
    "    return sigmoid(x)*(1.0-sigmoid(x))\n",
    "\n",
    "def tanh(x):\n",
    "    return np.tanh(x)\n",
    "\n",
    "def tanh_derivada(x):\n",
    "    return 1.0-x**2\n",
    "\n",
    "class NeuralNetwork:\n",
    "    def __init__(self, layers, activation='tanh'):\n",
    "        if activation == 'sigmoid':\n",
    "            self.activation = sigmoid\n",
    "            self.activation_prime = sigmoid_derivada\n",
    "        elif activation == 'tanh':\n",
    "            self.activation = tanh\n",
    "            self.activation_prime = tanh_derivada\n",
    "        \n",
    "        # Inicializo los pesos\n",
    "        self.weights = []\n",
    "        self.deltas = []\n",
    "        # capas = [2, 3, 2]\n",
    "        # rango de pesos varía entre (-1, 1)\n",
    "        # asigno valores aleatorios a capa de entrada y capa oculta\n",
    "        for i in range(1, len(layers) - 1):\n",
    "            r = 2*np.random.random((layers[i-1] + 1, layers[i] + 1)) - 1\n",
    "            self.weights.append(r)\n",
    "        # asigno aleatorios a capa de salida\n",
    "        r = 2*np.random.random((layers[i] + 1, layers[i+1])) - 1\n",
    "        self.weights.append(r)\n",
    "    \n",
    "    def fit(self, X, y, learning_rate=0.2, epochs=100000):\n",
    "        # Agrego columna de unos a las entradas X\n",
    "        # Con esto agregamos la unidad de Bias a la capa de entrada\n",
    "        ones = np.atleast_2d(np.ones(X.shape[0]))\n",
    "        X = np.concatenate((ones.T, X), axis=1)\n",
    "\n",
    "        for k in range(epochs):\n",
    "            i = np.random.randint(X.shape[0])\n",
    "            a = [X[i]]\n",
    "\n",
    "            for l in range(len(self.weights)):\n",
    "                dot_value = np.dot(a[l], self.weights[l])\n",
    "                activation = self.activation(dot_value)\n",
    "                a.append(activation)\n",
    "            # Calculo la diferencia en la capa de salida y el valor obtenido\n",
    "            error = y[i] - a[-1]\n",
    "            deltas = [error * self.activation_prime(a[-1])]\n",
    "\n",
    "            # Empezamos en el segundo layer hasta el último\n",
    "            # (Una capa anterior a la de salida)\n",
    "            for l in range(len(a) - 2, 0, -1):\n",
    "                deltas.append(deltas[-1].dot(self.weights[l].T)*self.activation_prime(a[l]))\n",
    "            \n",
    "            self.deltas.append(deltas)\n",
    "\n",
    "            # invertir\n",
    "            # [level3(output) -> level2(hidden)] => [level2(hidden)]\n",
    "            deltas.reverse()\n",
    "\n",
    "            # backpropagation\n",
    "            # 1. Multiplicar los deltas de salida con las activaciones de entrada\n",
    "            #    para obtener el gradiente del peso\n",
    "            # 2. Actualizo el peso restándole un porcentaje del gradiente\n",
    "            for i in range(len(self.weights)):\n",
    "                layer = np.atleast_2d(a[i])\n",
    "                delta = np.atleast_2d(deltas[i])\n",
    "                self.weights[i] += learning_rate * layer.T.dot(delta)\n",
    "            \n",
    "            if k % 10000 == 0:\n",
    "                print('epochs:', k)\n",
    "            \n",
    "    def predict(self, x):\n",
    "        ones = np.atleast_2d(np.ones(x.shape[0]))\n",
    "        a = np.concatenate((np.ones(1).T, np.array(x)), axis=0)\n",
    "        for l in range(0, len(self.weights)):\n",
    "            a = self.activation(np.dot(a, self.weights[l]))\n",
    "        return a\n",
    "    \n",
    "    def print_weights(self):\n",
    "        print(\"LISTADO PESOS DE CONEXIONES\")\n",
    "        for i in range(len(self.weights)):\n",
    "            print(self.weights[i])\n",
    "    \n",
    "    def get_deltas(self):\n",
    "        return self.deltas"
   ]
  },
  {
   "cell_type": "code",
   "execution_count": 2,
   "metadata": {},
   "outputs": [
    {
     "name": "stdout",
     "output_type": "stream",
     "text": [
      "epochs: 0\n",
      "epochs: 10000\n",
      "X: [0. 0.] y: [0 1] Network: [-0.00644275  0.9999919 ]\n",
      "X: [0. 1.] y: [0 1] Network: [1.60265669e-05 9.99930792e-01]\n",
      "X: [ 0. -1.] y: [0 1] Network: [0.0030282 0.9999887]\n",
      "X: [0.5 1. ] y: [-1  1] Network: [-0.95530821  0.94986449]\n",
      "X: [ 0.5 -1. ] y: [1 1] Network: [0.94632402 0.96050992]\n",
      "X: [1. 1.] y: [ 0 -1] Network: [-0.00498127 -0.96056161]\n",
      "X: [ 1. -1.] y: [ 0 -1] Network: [ 0.00642664 -0.98285345]\n"
     ]
    }
   ],
   "source": [
    "# Función \"Coche evita obstáculos\"\n",
    "nn = NeuralNetwork([2, 3, 2], activation='tanh')\n",
    "X = np.array([[0, 0],   # Sin obstáculos\n",
    "              [0, 1],   # Sin obstáculos\n",
    "              [0, -1],   # Sin obstáculos\n",
    "              [0.5, 1],   # Obstáculo detectado a derecha\n",
    "              [0.5, -1],   # Obstáculo detectado a izquierda\n",
    "              [1, 1],   # Demasiado cerca a derecha\n",
    "              [1, -1]])  # Demasiado cerca a izquierda\n",
    "\n",
    "y = np.array([[0, 1],   # Avanzar\n",
    "              [0, 1],   # Avanzar\n",
    "              [0, 1],   # Avanzar\n",
    "              [-1, 1],   # Giro izquierda\n",
    "              [1, 1],   # Giro derecha\n",
    "              [0, -1],   # Retroceder\n",
    "              [0, -1]])  # Retroceder\n",
    "\n",
    "nn.fit(X, y, learning_rate=0.03, epochs=15001)\n",
    "\n",
    "index = 0\n",
    "for e in X:\n",
    "    print(\"X:\", e, \"y:\", y[index], \"Network:\", nn.predict(e))\n",
    "    index += 1"
   ]
  },
  {
   "cell_type": "code",
   "execution_count": 3,
   "metadata": {},
   "outputs": [
    {
     "data": {
      "image/png": "[encoded data removed]",
      "text/plain": [
       "<Figure size 640x480 with 1 Axes>"
      ]
     },
     "metadata": {},
     "output_type": "display_data"
    }
   ],
   "source": [
    "import matplotlib.pyplot as plt\n",
    "\n",
    "deltas = nn.get_deltas()\n",
    "valores = []\n",
    "index = 0\n",
    "for arreglo in deltas:\n",
    "    valores.append(arreglo[1][0] + arreglo[1][1])\n",
    "    index += 1\n",
    "\n",
    "plt.plot(range(len(valores)), valores, color='b')\n",
    "plt.ylim([0, 1])\n",
    "plt.ylabel('Cost')\n",
    "plt.xlabel('Epochs')\n",
    "plt.tight_layout()\n",
    "plt.show()"
   ]
  }
 ],
 "metadata": {
  "kernelspec": {
   "display_name": "PySpace310",
   "language": "python",
   "name": "python3"
  },
  "language_info": {
   "codemirror_mode": {
    "name": "ipython",
    "version": 3
   },
   "file_extension": ".py",
   "mimetype": "text/x-python",
   "name": "python",
   "nbconvert_exporter": "python",
   "pygments_lexer": "ipython3",
   "version": "3.10.14"
  }
 },
 "nbformat": 4,
 "nbformat_minor": 2
}
