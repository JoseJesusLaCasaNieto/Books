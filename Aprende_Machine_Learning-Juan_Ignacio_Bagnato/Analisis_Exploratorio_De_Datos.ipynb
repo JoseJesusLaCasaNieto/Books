{
 "cells": [
  {
   "cell_type": "markdown",
   "metadata": {},
   "source": [
    "# Análisis Exploratorio de Datos"
   ]
  },
  {
   "cell_type": "markdown",
   "metadata": {},
   "source": [
    "## 1. Un EDA de pocos minutos con Pandas"
   ]
  },
  {
   "cell_type": "code",
   "execution_count": 2,
   "metadata": {},
   "outputs": [
    {
     "name": "stdout",
     "output_type": "stream",
     "text": [
      "  alpha_2 alpha_3      area           capital continent currency_code  \\\n",
      "0      AD     AND     468.0  Andorra la Vella        EU           EUR   \n",
      "1      AE     ARE   82880.0         Abu Dhabi        AS           AED   \n",
      "2      AF     AFG  647500.0             Kabul        AS           AFN   \n",
      "3      AG     ATG     443.0        St. John's       NaN           XCD   \n",
      "4      AI     AIA     102.0        The Valley       NaN           XCD   \n",
      "\n",
      "  currency_name eqivalent_fips_code fips  geoname_id          languages  \\\n",
      "0          Euro                 NaN   AN     3041565                 ca   \n",
      "1        Dirham                 NaN   AE      290557  ar-AE,fa,en,hi,ur   \n",
      "2       Afghani                 NaN   AF     1149361  fa-AF,ps,uz-AF,tk   \n",
      "3        Dollar                 NaN   AC     3576396              en-AG   \n",
      "4        Dollar                 NaN   AV     3573511              en-AI   \n",
      "\n",
      "                   name         neighbours  numeric   phone  population  \\\n",
      "0               Andorra              ES,FR       20     376       84000   \n",
      "1  United Arab Emirates              SA,OM      784     971     4975593   \n",
      "2           Afghanistan  TM,CN,IR,TJ,PK,UZ        4      93    29121286   \n",
      "3   Antigua and Barbuda                NaN       28  +1-268       86754   \n",
      "4              Anguilla                NaN      660  +1-264       13254   \n",
      "\n",
      "  postal_code_format postal_code_regex  tld  \n",
      "0              AD###  ^(?:AD)*(\\d{3})$  .ad  \n",
      "1                NaN               NaN  .ae  \n",
      "2                NaN               NaN  .af  \n",
      "3                NaN               NaN  .ag  \n",
      "4                NaN               NaN  .ai  \n"
     ]
    }
   ],
   "source": [
    "import pandas as pd\n",
    "import numpy as np\n",
    "import matplotlib.pyplot as plt\n",
    "import statsmodels.api as sm\n",
    "\n",
    "url = 'https://raw.githubusercontent.com/lorey/list-of-countries/master/csv/countries.csv'\n",
    "df = pd.read_csv(url, sep=';')\n",
    "print(df.head())"
   ]
  },
  {
   "cell_type": "code",
   "execution_count": 3,
   "metadata": {},
   "outputs": [
    {
     "name": "stdout",
     "output_type": "stream",
     "text": [
      "Cantidad de filas y columnas: (252, 19)\n",
      "Nombre columnas: Index(['alpha_2', 'alpha_3', 'area', 'capital', 'continent', 'currency_code',\n",
      "       'currency_name', 'eqivalent_fips_code', 'fips', 'geoname_id',\n",
      "       'languages', 'name', 'neighbours', 'numeric', 'phone', 'population',\n",
      "       'postal_code_format', 'postal_code_regex', 'tld'],\n",
      "      dtype='object')\n"
     ]
    }
   ],
   "source": [
    "print('Cantidad de filas y columnas:', df.shape)\n",
    "print('Nombre columnas:', df.columns)"
   ]
  },
  {
   "cell_type": "code",
   "execution_count": 4,
   "metadata": {},
   "outputs": [
    {
     "name": "stdout",
     "output_type": "stream",
     "text": [
      "<class 'pandas.core.frame.DataFrame'>\n",
      "RangeIndex: 252 entries, 0 to 251\n",
      "Data columns (total 19 columns):\n",
      " #   Column               Non-Null Count  Dtype  \n",
      "---  ------               --------------  -----  \n",
      " 0   alpha_2              251 non-null    object \n",
      " 1   alpha_3              252 non-null    object \n",
      " 2   area                 252 non-null    float64\n",
      " 3   capital              246 non-null    object \n",
      " 4   continent            210 non-null    object \n",
      " 5   currency_code        251 non-null    object \n",
      " 6   currency_name        251 non-null    object \n",
      " 7   eqivalent_fips_code  1 non-null      object \n",
      " 8   fips                 249 non-null    object \n",
      " 9   geoname_id           252 non-null    int64  \n",
      " 10  languages            249 non-null    object \n",
      " 11  name                 252 non-null    object \n",
      " 12  neighbours           165 non-null    object \n",
      " 13  numeric              252 non-null    int64  \n",
      " 14  phone                247 non-null    object \n",
      " 15  population           252 non-null    int64  \n",
      " 16  postal_code_format   154 non-null    object \n",
      " 17  postal_code_regex    152 non-null    object \n",
      " 18  tld                  250 non-null    object \n",
      "dtypes: float64(1), int64(3), object(15)\n",
      "memory usage: 37.5+ KB\n"
     ]
    }
   ],
   "source": [
    "df.info()"
   ]
  },
  {
   "cell_type": "code",
   "execution_count": 5,
   "metadata": {},
   "outputs": [
    {
     "data": {
      "text/html": [
       "<div>\n",
       "<style scoped>\n",
       "    .dataframe tbody tr th:only-of-type {\n",
       "        vertical-align: middle;\n",
       "    }\n",
       "\n",
       "    .dataframe tbody tr th {\n",
       "        vertical-align: top;\n",
       "    }\n",
       "\n",
       "    .dataframe thead th {\n",
       "        text-align: right;\n",
       "    }\n",
       "</style>\n",
       "<table border=\"1\" class=\"dataframe\">\n",
       "  <thead>\n",
       "    <tr style=\"text-align: right;\">\n",
       "      <th></th>\n",
       "      <th>area</th>\n",
       "      <th>geoname_id</th>\n",
       "      <th>numeric</th>\n",
       "      <th>population</th>\n",
       "    </tr>\n",
       "  </thead>\n",
       "  <tbody>\n",
       "    <tr>\n",
       "      <th>count</th>\n",
       "      <td>2.520000e+02</td>\n",
       "      <td>2.520000e+02</td>\n",
       "      <td>252.000000</td>\n",
       "      <td>2.520000e+02</td>\n",
       "    </tr>\n",
       "    <tr>\n",
       "      <th>mean</th>\n",
       "      <td>5.952879e+05</td>\n",
       "      <td>2.427870e+06</td>\n",
       "      <td>434.309524</td>\n",
       "      <td>2.727679e+07</td>\n",
       "    </tr>\n",
       "    <tr>\n",
       "      <th>std</th>\n",
       "      <td>1.904818e+06</td>\n",
       "      <td>1.632093e+06</td>\n",
       "      <td>254.663139</td>\n",
       "      <td>1.164127e+08</td>\n",
       "    </tr>\n",
       "    <tr>\n",
       "      <th>min</th>\n",
       "      <td>0.000000e+00</td>\n",
       "      <td>4.951800e+04</td>\n",
       "      <td>0.000000</td>\n",
       "      <td>0.000000e+00</td>\n",
       "    </tr>\n",
       "    <tr>\n",
       "      <th>25%</th>\n",
       "      <td>1.098000e+03</td>\n",
       "      <td>1.163774e+06</td>\n",
       "      <td>217.000000</td>\n",
       "      <td>1.879528e+05</td>\n",
       "    </tr>\n",
       "    <tr>\n",
       "      <th>50%</th>\n",
       "      <td>6.489450e+04</td>\n",
       "      <td>2.367967e+06</td>\n",
       "      <td>436.000000</td>\n",
       "      <td>4.268583e+06</td>\n",
       "    </tr>\n",
       "    <tr>\n",
       "      <th>75%</th>\n",
       "      <td>3.622245e+05</td>\n",
       "      <td>3.478296e+06</td>\n",
       "      <td>652.500000</td>\n",
       "      <td>1.536688e+07</td>\n",
       "    </tr>\n",
       "    <tr>\n",
       "      <th>max</th>\n",
       "      <td>1.710000e+07</td>\n",
       "      <td>8.505033e+06</td>\n",
       "      <td>894.000000</td>\n",
       "      <td>1.330044e+09</td>\n",
       "    </tr>\n",
       "  </tbody>\n",
       "</table>\n",
       "</div>"
      ],
      "text/plain": [
       "               area    geoname_id     numeric    population\n",
       "count  2.520000e+02  2.520000e+02  252.000000  2.520000e+02\n",
       "mean   5.952879e+05  2.427870e+06  434.309524  2.727679e+07\n",
       "std    1.904818e+06  1.632093e+06  254.663139  1.164127e+08\n",
       "min    0.000000e+00  4.951800e+04    0.000000  0.000000e+00\n",
       "25%    1.098000e+03  1.163774e+06  217.000000  1.879528e+05\n",
       "50%    6.489450e+04  2.367967e+06  436.000000  4.268583e+06\n",
       "75%    3.622245e+05  3.478296e+06  652.500000  1.536688e+07\n",
       "max    1.710000e+07  8.505033e+06  894.000000  1.330044e+09"
      ]
     },
     "execution_count": 5,
     "metadata": {},
     "output_type": "execute_result"
    }
   ],
   "source": [
    "df.describe()"
   ]
  },
  {
   "cell_type": "code",
   "execution_count": null,
   "metadata": {},
   "outputs": [],
   "source": []
  }
 ],
 "metadata": {
  "kernelspec": {
   "display_name": "PySpace310",
   "language": "python",
   "name": "python3"
  },
  "language_info": {
   "codemirror_mode": {
    "name": "ipython",
    "version": 3
   },
   "file_extension": ".py",
   "mimetype": "text/x-python",
   "name": "python",
   "nbconvert_exporter": "python",
   "pygments_lexer": "ipython3",
   "version": "3.10.14"
  }
 },
 "nbformat": 4,
 "nbformat_minor": 2
}
