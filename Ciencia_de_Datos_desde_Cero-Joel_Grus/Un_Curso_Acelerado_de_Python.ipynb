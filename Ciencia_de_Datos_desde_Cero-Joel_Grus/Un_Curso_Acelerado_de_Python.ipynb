{
 "cells": [
  {
   "cell_type": "markdown",
   "id": "38f261e9",
   "metadata": {},
   "source": [
    "# 2. Un Curso Acelerado de Python"
   ]
  },
  {
   "cell_type": "markdown",
   "id": "76b2b73a",
   "metadata": {},
   "source": [
    "## Funciones"
   ]
  },
  {
   "cell_type": "code",
   "execution_count": 1,
   "id": "43c5289f",
   "metadata": {},
   "outputs": [],
   "source": [
    "def double(x):\n",
    "    return x * 2"
   ]
  },
  {
   "cell_type": "code",
   "execution_count": 2,
   "id": "266b02b1",
   "metadata": {},
   "outputs": [
    {
     "data": {
      "text/plain": [
       "2"
      ]
     },
     "execution_count": 2,
     "metadata": {},
     "output_type": "execute_result"
    }
   ],
   "source": [
    "def apply_to_one(f):\n",
    "    return f(1)\n",
    "\n",
    "my_double = double\n",
    "\n",
    "x = apply_to_one(my_double)\n",
    "x"
   ]
  },
  {
   "cell_type": "code",
   "execution_count": 5,
   "id": "41af3351",
   "metadata": {},
   "outputs": [
    {
     "data": {
      "text/plain": [
       "5"
      ]
     },
     "execution_count": 5,
     "metadata": {},
     "output_type": "execute_result"
    }
   ],
   "source": [
    "y = apply_to_one(lambda x: x + 4)\n",
    "y"
   ]
  },
  {
   "cell_type": "markdown",
   "id": "9924b491",
   "metadata": {},
   "source": [
    "## Diccionarios"
   ]
  },
  {
   "cell_type": "markdown",
   "id": "9c2b9cde",
   "metadata": {},
   "source": [
    "### **defaultdict**"
   ]
  },
  {
   "cell_type": "code",
   "execution_count": null,
   "id": "798e892c",
   "metadata": {},
   "outputs": [],
   "source": [
    "from collections import defaultdict\n",
    "\n",
    "word_counts = defaultdict(int)\n",
    "for word in documents:\n",
    "    word_counts[word] += 1"
   ]
  },
  {
   "cell_type": "markdown",
   "id": "c39951f7",
   "metadata": {},
   "source": [
    "## Contadores"
   ]
  },
  {
   "cell_type": "code",
   "execution_count": 6,
   "id": "d23b68a9",
   "metadata": {},
   "outputs": [
    {
     "data": {
      "text/plain": [
       "Counter({0: 2, 1: 1, 2: 1})"
      ]
     },
     "execution_count": 6,
     "metadata": {},
     "output_type": "execute_result"
    }
   ],
   "source": [
    "from collections import Counter\n",
    "\n",
    "c = Counter([0, 1, 2, 0])\n",
    "c"
   ]
  },
  {
   "cell_type": "markdown",
   "id": "39d80c37",
   "metadata": {},
   "source": [
    "## Conjuntos"
   ]
  },
  {
   "cell_type": "code",
   "execution_count": 11,
   "id": "c1c43874",
   "metadata": {},
   "outputs": [
    {
     "name": "stdout",
     "output_type": "stream",
     "text": [
      "6\n",
      "{1, 2, 3}\n",
      "3\n",
      "[1, 2, 3]\n"
     ]
    }
   ],
   "source": [
    "item_list = [1, 2, 3, 1, 2, 3]\n",
    "num_items = len(item_list)\n",
    "print(num_items)\n",
    "item_set = set(item_list)\n",
    "print(item_set)\n",
    "num_distinct_items = len(item_set)\n",
    "print(num_distinct_items)\n",
    "distinct_item_list = list(item_set)\n",
    "print(distinct_item_list)"
   ]
  },
  {
   "cell_type": "markdown",
   "id": "dc3dd0b3",
   "metadata": {},
   "source": [
    "## Pruebas automatizadas y assert"
   ]
  },
  {
   "cell_type": "code",
   "execution_count": 14,
   "id": "02537381",
   "metadata": {},
   "outputs": [
    {
     "ename": "AssertionError",
     "evalue": "1 + 1 should equal 2 but didn't",
     "output_type": "error",
     "traceback": [
      "\u001b[31m---------------------------------------------------------------------------\u001b[39m",
      "\u001b[31mAssertionError\u001b[39m                            Traceback (most recent call last)",
      "\u001b[36mCell\u001b[39m\u001b[36m \u001b[39m\u001b[32mIn[14]\u001b[39m\u001b[32m, line 2\u001b[39m\n\u001b[32m      1\u001b[39m \u001b[38;5;28;01massert\u001b[39;00m \u001b[32m1\u001b[39m + \u001b[32m1\u001b[39m == \u001b[32m2\u001b[39m\n\u001b[32m----> \u001b[39m\u001b[32m2\u001b[39m \u001b[38;5;28;01massert\u001b[39;00m \u001b[32m1\u001b[39m + \u001b[32m1\u001b[39m == \u001b[32m3\u001b[39m, \u001b[33m\"\u001b[39m\u001b[33m1 + 1 should equal 2 but didn\u001b[39m\u001b[33m'\u001b[39m\u001b[33mt\u001b[39m\u001b[33m\"\u001b[39m\n",
      "\u001b[31mAssertionError\u001b[39m: 1 + 1 should equal 2 but didn't"
     ]
    }
   ],
   "source": [
    "assert 1 + 1 == 2\n",
    "assert 1 + 1 == 3, \"1 + 1 should equal 2 but didn't\""
   ]
  },
  {
   "cell_type": "code",
   "execution_count": 16,
   "id": "77aa0b28",
   "metadata": {},
   "outputs": [],
   "source": [
    "def smallest_item(xs):\n",
    "    return min(xs)\n",
    "\n",
    "assert smallest_item([10, 20, 5, 40]) == 5\n",
    "assert smallest_item([1, 0, -1, 2]) == -1"
   ]
  },
  {
   "cell_type": "markdown",
   "id": "7dbbd8e6",
   "metadata": {},
   "source": [
    "## Programación orientada a objetos"
   ]
  },
  {
   "cell_type": "code",
   "execution_count": 24,
   "id": "faeb7a49",
   "metadata": {},
   "outputs": [],
   "source": [
    "class CountingClicker:\n",
    "    \"\"\"A class can/should have a docstring, just like a function\"\"\"\n",
    "\n",
    "    def __init__(self, count = 0):\n",
    "        self.count = count\n",
    "\n",
    "    def __repr__(self):\n",
    "        return f\"CountingClicker(count={self.count})\"\n",
    "    \n",
    "    def click(self, num_times = 1):\n",
    "        \"\"\"Click the clicker some number of times.\"\"\"\n",
    "        self.count += num_times\n",
    "    \n",
    "    def read(self):\n",
    "        return self.count\n",
    "    \n",
    "    def reset(self):\n",
    "        self.count = 0"
   ]
  },
  {
   "cell_type": "code",
   "execution_count": 25,
   "id": "d44febb7",
   "metadata": {},
   "outputs": [],
   "source": [
    "clicker1 = CountingClicker()\n",
    "clicker2 = CountingClicker(100)\n",
    "clicker3 = CountingClicker(count=100)"
   ]
  },
  {
   "cell_type": "code",
   "execution_count": 33,
   "id": "84ea3737",
   "metadata": {},
   "outputs": [],
   "source": [
    "clicker = CountingClicker()\n",
    "assert clicker.read() == 0, \"clicker should start with count 0\"\n",
    "clicker.click()\n",
    "clicker.click()\n",
    "assert clicker.read() == 2, \"after two clicks, clicker should have count 2\"\n",
    "clicker.reset()\n",
    "assert clicker.read() == 0, \"after reset, clicker should be back to 0\""
   ]
  },
  {
   "cell_type": "code",
   "execution_count": 34,
   "id": "e0cb9a8c",
   "metadata": {},
   "outputs": [],
   "source": [
    "# Una subclase hereda todo el comportamiento de su clase padre.\n",
    "class NoResetClicker(CountingClicker):\n",
    "    # Esta clase tiene los mismos métodos que CountingClicker\n",
    "    # Salvo que tiene un método reset que no hace nada.\n",
    "    def reset(self):\n",
    "        pass"
   ]
  },
  {
   "cell_type": "code",
   "execution_count": 38,
   "id": "8390c0b6",
   "metadata": {},
   "outputs": [],
   "source": [
    "clicker2 = NoResetClicker()\n",
    "assert clicker2.read() == 0\n",
    "clicker2.click()\n",
    "assert clicker2.read() == 1\n",
    "clicker2.reset()\n",
    "assert clicker2.read() == 1, \"reset shouldn't do anything\""
   ]
  },
  {
   "cell_type": "markdown",
   "id": "3ce39732",
   "metadata": {},
   "source": [
    "## Empaquetado y desempaquetado de argumentos"
   ]
  },
  {
   "cell_type": "code",
   "execution_count": 41,
   "id": "0a627556",
   "metadata": {},
   "outputs": [
    {
     "data": {
      "text/plain": [
       "[('a', 1), ('b', 2), ('c', 3)]"
      ]
     },
     "execution_count": 41,
     "metadata": {},
     "output_type": "execute_result"
    }
   ],
   "source": [
    "list1 = ['a', 'b', 'c']\n",
    "list2 = [1, 2, 3]\n",
    "[pair for pair in zip(list1, list2)]"
   ]
  },
  {
   "cell_type": "code",
   "execution_count": 42,
   "id": "e76f6c7f",
   "metadata": {},
   "outputs": [
    {
     "name": "stdout",
     "output_type": "stream",
     "text": [
      "('a', 'b', 'c')\n",
      "(1, 2, 3)\n"
     ]
    }
   ],
   "source": [
    "pairs = [('a', 1), ('b', 2), ('c', 3)]\n",
    "letters, numbers = zip(*pairs)\n",
    "print(letters)\n",
    "print(numbers)"
   ]
  },
  {
   "cell_type": "markdown",
   "id": "435ae6e8",
   "metadata": {},
   "source": [
    "## Anotaciones de tipos"
   ]
  },
  {
   "cell_type": "code",
   "execution_count": 43,
   "id": "e2a85823",
   "metadata": {},
   "outputs": [],
   "source": [
    "from typing import List\n",
    "\n",
    "def total(sx: List[float]) -> float:\n",
    "    return sum(total)"
   ]
  }
 ],
 "metadata": {
  "kernelspec": {
   "display_name": "books_repo_py313",
   "language": "python",
   "name": "python3"
  },
  "language_info": {
   "codemirror_mode": {
    "name": "ipython",
    "version": 3
   },
   "file_extension": ".py",
   "mimetype": "text/x-python",
   "name": "python",
   "nbconvert_exporter": "python",
   "pygments_lexer": "ipython3",
   "version": "3.13.9"
  }
 },
 "nbformat": 4,
 "nbformat_minor": 5
}
